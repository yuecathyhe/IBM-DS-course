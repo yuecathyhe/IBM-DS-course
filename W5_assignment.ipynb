%load_ext sql
%sql ibm_db_sa://qmr44206:CyTcTuHU1oxLZu4p@9938aec0-8105-433e-8bf9-0fbb7e483086.c1ogj3sd0tgtu0lqde00.databases.appdomain.cloud:32459/bludb
# Rows in Crime table
%sql SELECT COUNT(*) AS TOTAL_CRIMES \
      FROM CHICAGO_CRIME_DATA
